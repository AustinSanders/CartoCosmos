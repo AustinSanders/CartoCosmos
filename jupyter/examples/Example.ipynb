{
 "cells": [
  {
   "cell_type": "code",
   "execution_count": null,
   "metadata": {
    "jupyter": {
     "outputs_hidden": true
    }
   },
   "outputs": [],
   "source": [
    "# This is used to install all the correct packages using pip\n",
    "import sys\n",
    "!{sys.executable} -m pip install ipywidgets\n",
    "!{sys.executable} -m pip install ipyleaflet\n",
    "!{sys.executable} -m pip install geojson\n",
    "!{sys.executable} -m pip install shapely"
   ]
  },
  {
   "cell_type": "code",
   "execution_count": 1,
   "metadata": {},
   "outputs": [],
   "source": [
    "import os\n",
    "import sys\n",
    "module_path = os.path.abspath(os.path.join('../src/'))\n",
    "if module_path not in sys.path:\n",
    "    sys.path.append(module_path)"
   ]
  },
  {
   "cell_type": "code",
   "execution_count": 4,
   "metadata": {},
   "outputs": [],
   "source": [
    "def click_handler(feature=None, **kwargs):\n",
    "    click_handler.counter += 1\n",
    "    if click_handler.counter == 1:\n",
    "#     try: # Duplicates onclick call and second call passes in feature as None\n",
    "#         if feature[\"geometry\"][\"type\"] == \"Point\":\n",
    "#             location = feature[\"geometry\"][\"coordinates\"]\n",
    "#         else: \n",
    "#             location = feature[\"geometry\"][\"coordinates\"][0][0]\n",
    "        click_handler.feature = feature\n",
    "        if feature['name'] == 'Olympus Mons':\n",
    "            print(\"FOUND OLYMPUS\")\n",
    "\n",
    "#         popup = ipyleaflet.Popup(\n",
    "#             location=location,\n",
    "#             child=ipywidgets.HTML(feature['name']),\n",
    "#             close_button=True,\n",
    "#             auto_close=True,\n",
    "#             close_on_escape_key=False\n",
    "#         )\n",
    "#         map.planet_map.add_layer(popup)\n",
    "    elif click_handler.counter == 2:\n",
    "        \n",
    "#     except Exception as e:\n",
    "        location = kwargs['coordinates']\n",
    "        popup = ipyleaflet.Popup(\n",
    "            location=location,\n",
    "            child=ipywidgets.HTML(click_handler.feature['name']),\n",
    "            close_button=True,\n",
    "            auto_close=True,\n",
    "            close_on_escape_key=False\n",
    "        )\n",
    "        map.planet_map.add_layer(popup)\n",
    "        click_handler.counter = 0\n",
    "        return\n",
    "click_handler.counter = 0\n",
    "click_handler.feature = None"
   ]
  },
  {
   "cell_type": "code",
   "execution_count": 5,
   "metadata": {
    "scrolled": false
   },
   "outputs": [
    {
     "data": {
      "application/vnd.jupyter.widget-view+json": {
       "model_id": "f180ad068d164a0395a78abb472a3f52",
       "version_major": 2,
       "version_minor": 0
      },
      "text/plain": [
       "Label(value='')"
      ]
     },
     "metadata": {},
     "output_type": "display_data"
    },
    {
     "data": {
      "application/vnd.jupyter.widget-view+json": {
       "model_id": "1bcc3e50d3a44cfdab9268535bd9bcb9",
       "version_major": 2,
       "version_minor": 0
      },
      "text/plain": [
       "Map(center=[0, 0], controls=(ZoomControl(options=['position', 'zoom_in_text', 'zoom_in_title', 'zoom_out_text'…"
      ]
     },
     "metadata": {},
     "output_type": "display_data"
    },
    {
     "data": {
      "application/vnd.jupyter.widget-view+json": {
       "model_id": "44fa41135d8a484286f3255c987dc919",
       "version_major": 2,
       "version_minor": 0
      },
      "text/plain": [
       "Text(value='', description='WKT String:', layout=Layout(width='75%'), placeholder='Type something')"
      ]
     },
     "metadata": {},
     "output_type": "display_data"
    },
    {
     "data": {
      "application/vnd.jupyter.widget-view+json": {
       "model_id": "9a55a6351ecb43b5808b841573e1c087",
       "version_major": 2,
       "version_minor": 0
      },
      "text/plain": [
       "Button(description='Draw', style=ButtonStyle(), tooltip='Draw WKT object')"
      ]
     },
     "metadata": {},
     "output_type": "display_data"
    }
   ],
   "source": [
    "import CartoCosmos as l\n",
    "import urllib.request\n",
    "import json\n",
    "import ipyleaflet\n",
    "import ipywidgets\n",
    "\n",
    "map = l.planetary_maps('mars')\n",
    "\n",
    "# map.add_wkt(\"POLYGON ((-187.03125 22.851563, -187.03125 35.15625, -167.34375 35.15625, -167.34375 22.851563, -187.03125 22.851563))\")\n",
    "\n",
    "map.display_map()\n",
    "\n",
    "geoJsonUrl = \"https://astrocloud.wr.usgs.gov/dataset/data/nomenclature/MERCURY/WFS?service=WFS&version=1.1.0&request=GetFeature&outputFormat=application%2Fjson&srsName=EPSG%3A4326&MAXFEATURES=2\"\n",
    "\n",
    "break_out = False\n",
    "while(not break_out):\n",
    "    try:\n",
    "        with urllib.request.urlopen(geoJsonUrl) as url:\n",
    "            jsonp = json.loads(url.read())\n",
    "            geo_json = ipyleaflet.GeoJSON(data=jsonp, name=\"WFS\")\n",
    "            geo_json.point_style = {\n",
    "                'fillOpacity': 1,\n",
    "                'radius': 3\n",
    "            }\n",
    "            geo_json.on_click(click_handler)\n",
    "            map.planet_map.add_layer(geo_json)\n",
    "            break_out = True\n",
    "    except:\n",
    "        continue"
   ]
  },
  {
   "cell_type": "code",
   "execution_count": null,
   "metadata": {},
   "outputs": [],
   "source": []
  }
 ],
 "metadata": {
  "kernelspec": {
   "display_name": "Python 3",
   "language": "python",
   "name": "python3"
  },
  "language_info": {
   "codemirror_mode": {
    "name": "ipython",
    "version": 3
   },
   "file_extension": ".py",
   "mimetype": "text/x-python",
   "name": "python",
   "nbconvert_exporter": "python",
   "pygments_lexer": "ipython3",
   "version": "3.8.1"
  }
 },
 "nbformat": 4,
 "nbformat_minor": 4
}
